{
 "cells": [
  {
   "cell_type": "markdown",
   "id": "a58146e5",
   "metadata": {},
   "source": [
    "# Pachyderm Combinator Component Demo\n",
    "\n",
    "If you are reading this then you are about to take Pachyderm, a data lineage and pipelining tool, for a test drive.\n",
    "\n",
    "Pachyderm is packaged as a [combinator component](https://combinator.ml/components/introduction/) ... TODO\n",
    "\n",
    "_Note: this demo only works reliably when in the default namespace (the default demo pipeline expects the default namespace_"
   ]
  },
  {
   "cell_type": "code",
   "execution_count": 1,
   "id": "483acc14",
   "metadata": {
    "scrolled": true
   },
   "outputs": [
    {
     "name": "stdout",
     "output_type": "stream",
     "text": [
      "pachctl_1.13.2_linux_amd64/pachctl\r\n"
     ]
    }
   ],
   "source": [
    "!wget -q -O /tmp/pachctl.tar.gz https://github.com/pachyderm/pachyderm/releases/download/v1.13.2/pachctl_1.13.2_linux_amd64.tar.gz \n",
    "!tar -xvf /tmp/pachctl.tar.gz -C /tmp \n",
    "!cp /tmp/pachctl_1.13.2_linux_amd64/pachctl /opt/conda/bin # Move the binary to somewhere on the PATH"
   ]
  },
  {
   "cell_type": "code",
   "execution_count": 2,
   "id": "5eaf1f8b",
   "metadata": {},
   "outputs": [],
   "source": [
    "!pachctl config update context `pachctl config get active-context` --pachd-address=pachd:650"
   ]
  },
  {
   "cell_type": "code",
   "execution_count": 30,
   "id": "94d80571",
   "metadata": {},
   "outputs": [
    {
     "name": "stdout",
     "output_type": "stream",
     "text": [
      "NAME CREATED SIZE (MASTER) DESCRIPTION \r\n"
     ]
    }
   ],
   "source": [
    "!pachctl list repo"
   ]
  },
  {
   "cell_type": "code",
   "execution_count": 57,
   "id": "da182a02",
   "metadata": {
    "scrolled": true
   },
   "outputs": [],
   "source": [
    "!pachctl create repo images"
   ]
  },
  {
   "cell_type": "code",
   "execution_count": 58,
   "id": "4cdaa9ce",
   "metadata": {},
   "outputs": [
    {
     "name": "stdout",
     "output_type": "stream",
     "text": [
      "NAME   CREATED      SIZE (MASTER) DESCRIPTION \r\n",
      "images 1 second ago 0B                        \r\n"
     ]
    }
   ],
   "source": [
    "!pachctl list repo"
   ]
  },
  {
   "cell_type": "code",
   "execution_count": 59,
   "id": "d104698b",
   "metadata": {},
   "outputs": [],
   "source": [
    "!pachctl put file images@master:liberty.png -f http://imgur.com/46Q8nDz.png"
   ]
  },
  {
   "cell_type": "code",
   "execution_count": 60,
   "id": "3f47c005",
   "metadata": {},
   "outputs": [
    {
     "name": "stdout",
     "output_type": "stream",
     "text": [
      "NAME   CREATED       SIZE (MASTER) DESCRIPTION \r\n",
      "images 6 seconds ago 57.27KiB                  \r\n"
     ]
    }
   ],
   "source": [
    "!pachctl list repo"
   ]
  },
  {
   "cell_type": "code",
   "execution_count": 61,
   "id": "65f56d0a",
   "metadata": {},
   "outputs": [
    {
     "name": "stdout",
     "output_type": "stream",
     "text": [
      "REPO   BRANCH COMMIT                           FINISHED      SIZE     PROGRESS DESCRIPTION\r\n",
      "images master a6432b1209344c65a51c503a5187e733 5 seconds ago 57.27KiB -         \r\n"
     ]
    }
   ],
   "source": [
    "!pachctl list commit images"
   ]
  },
  {
   "cell_type": "code",
   "execution_count": 62,
   "id": "6164cf07",
   "metadata": {},
   "outputs": [
    {
     "name": "stdout",
     "output_type": "stream",
     "text": [
      "WARNING: please specify a tag for the docker image in your transform.image spec.\r\n",
      "For example, change 'python' to 'python:3' or 'bash' to 'bash:5'. This improves\r\n",
      "reproducibility of your pipelines.\r\n",
      "\r\n"
     ]
    }
   ],
   "source": [
    "!pachctl create pipeline -f https://raw.githubusercontent.com/pachyderm/pachyderm/master/examples/opencv/edges.json"
   ]
  },
  {
   "cell_type": "code",
   "execution_count": 63,
   "id": "da3339dc",
   "metadata": {},
   "outputs": [
    {
     "name": "stdout",
     "output_type": "stream",
     "text": [
      "NAME  VERSION INPUT     CREATED      STATE / LAST JOB    DESCRIPTION                                                                \r\n",
      "edges 1       images:/* 1 second ago \u001b[33mstarting\u001b[0m / \u001b[33mstarting\u001b[0m A pipeline that performs image edge detection by using the OpenCV library. \r\n"
     ]
    }
   ],
   "source": [
    "!pachctl list pipeline edges "
   ]
  },
  {
   "cell_type": "code",
   "execution_count": 64,
   "id": "896d17c1",
   "metadata": {
    "scrolled": true
   },
   "outputs": [
    {
     "name": "stdout",
     "output_type": "stream",
     "text": [
      "ID                               PIPELINE STARTED       DURATION  RESTART PROGRESS  DL       UL       STATE   \r\n",
      "3304b0fdb3dc41558da4e7fd375349b7 edges    3 seconds ago 3 seconds 0       1 + 0 / 1 57.27KiB 22.22KiB \u001b[32msuccess\u001b[0m \r\n"
     ]
    }
   ],
   "source": [
    "!pachctl flush job images@master"
   ]
  },
  {
   "cell_type": "code",
   "execution_count": 65,
   "id": "45cc520b",
   "metadata": {
    "scrolled": true
   },
   "outputs": [
    {
     "name": "stdout",
     "output_type": "stream",
     "text": [
      "ID                               PIPELINE STARTED       DURATION  RESTART PROGRESS  DL       UL       STATE   \r\n",
      "3304b0fdb3dc41558da4e7fd375349b7 edges    4 seconds ago 3 seconds 0       1 + 0 / 1 57.27KiB 22.22KiB \u001b[32msuccess\u001b[0m \r\n"
     ]
    }
   ],
   "source": [
    "!pachctl list job"
   ]
  },
  {
   "cell_type": "code",
   "execution_count": 66,
   "id": "317f9119",
   "metadata": {},
   "outputs": [],
   "source": [
    "!pachctl get file edges@master:liberty.png > liberty.png"
   ]
  },
  {
   "cell_type": "markdown",
   "id": "15422977",
   "metadata": {},
   "source": [
    "![](liberty.png)"
   ]
  },
  {
   "cell_type": "code",
   "execution_count": 67,
   "id": "b179cf10",
   "metadata": {},
   "outputs": [],
   "source": [
    "!pachctl create pipeline -f https://raw.githubusercontent.com/pachyderm/pachyderm/master/examples/opencv/montage.json"
   ]
  },
  {
   "cell_type": "code",
   "execution_count": 68,
   "id": "96d4e1a8",
   "metadata": {},
   "outputs": [
    {
     "name": "stdout",
     "output_type": "stream",
     "text": [
      "ID                               PIPELINE STARTED      DURATION RESTART PROGRESS  DL       UL       STATE   \r\n",
      "dec82ab6032244d695dcaa6f56257e6d montage  1 second ago 1 second 0       1 + 0 / 1 79.49KiB 381.1KiB \u001b[32msuccess\u001b[0m \r\n"
     ]
    }
   ],
   "source": [
    "!pachctl flush job edges@master"
   ]
  },
  {
   "cell_type": "code",
   "execution_count": 69,
   "id": "908975b9",
   "metadata": {},
   "outputs": [
    {
     "name": "stdout",
     "output_type": "stream",
     "text": [
      "ID                               PIPELINE STARTED        DURATION  RESTART PROGRESS  DL       UL       STATE   \r\n",
      "dec82ab6032244d695dcaa6f56257e6d montage  3 seconds ago  1 second  0       1 + 0 / 1 79.49KiB 381.1KiB \u001b[32msuccess\u001b[0m \r\n",
      "3304b0fdb3dc41558da4e7fd375349b7 edges    55 seconds ago 3 seconds 0       1 + 0 / 1 57.27KiB 22.22KiB \u001b[32msuccess\u001b[0m \r\n"
     ]
    }
   ],
   "source": [
    "!pachctl list job"
   ]
  },
  {
   "cell_type": "code",
   "execution_count": 70,
   "id": "fc72e5a4",
   "metadata": {},
   "outputs": [],
   "source": [
    "!pachctl get file montage@master:montage.png > montage.png"
   ]
  },
  {
   "cell_type": "markdown",
   "id": "46a6e681",
   "metadata": {},
   "source": [
    "![](montage.png)"
   ]
  },
  {
   "cell_type": "code",
   "execution_count": 71,
   "id": "db28f6b8",
   "metadata": {},
   "outputs": [],
   "source": [
    "!pachctl put file images@master:AT-AT.png -f http://imgur.com/8MN9Kg0.png\n",
    "!pachctl put file images@master:kitten.png -f http://imgur.com/g2QnNqa.png"
   ]
  },
  {
   "cell_type": "code",
   "execution_count": 72,
   "id": "67fc0e30",
   "metadata": {},
   "outputs": [
    {
     "name": "stdout",
     "output_type": "stream",
     "text": [
      "ID                               PIPELINE STARTED       DURATION  RESTART PROGRESS  DL       UL       STATE   \r\n",
      "2dce3d0f1d5d40f2a9c2aaf9ac24b849 edges    2 seconds ago 2 seconds 0       1 + 2 / 3 102.4KiB 74.21KiB \u001b[32msuccess\u001b[0m \r\n",
      "f2fee9df95cd4878a52b8eae0f0ac7cf montage  5 seconds ago 5 seconds 0       1 + 0 / 1 371.9KiB 1.292MiB \u001b[32msuccess\u001b[0m \r\n"
     ]
    }
   ],
   "source": [
    "!pachctl flush job images@master"
   ]
  },
  {
   "cell_type": "code",
   "execution_count": 73,
   "id": "a48e6d6c",
   "metadata": {
    "scrolled": true
   },
   "outputs": [
    {
     "name": "stdout",
     "output_type": "stream",
     "text": [
      "ID                               PIPELINE STARTED            DURATION  RESTART PROGRESS  DL       UL       STATE   \r\n",
      "f2fee9df95cd4878a52b8eae0f0ac7cf montage  6 seconds ago      5 seconds 0       1 + 0 / 1 371.9KiB 1.292MiB \u001b[32msuccess\u001b[0m \r\n",
      "644926c960ae4d9f8fa1f6a7e21a04f2 montage  10 seconds ago     4 seconds 0       1 + 0 / 1 195.3KiB 815.1KiB \u001b[32msuccess\u001b[0m \r\n",
      "2dce3d0f1d5d40f2a9c2aaf9ac24b849 edges    10 seconds ago     2 seconds 0       1 + 2 / 3 102.4KiB 74.21KiB \u001b[32msuccess\u001b[0m \r\n",
      "dee8c9de09ff4c1d94749e0a96e91c89 edges    12 seconds ago     1 second  0       1 + 1 / 2 78.7KiB  37.15KiB \u001b[32msuccess\u001b[0m \r\n",
      "dec82ab6032244d695dcaa6f56257e6d montage  About a minute ago 1 second  0       1 + 0 / 1 79.49KiB 381.1KiB \u001b[32msuccess\u001b[0m \r\n",
      "3304b0fdb3dc41558da4e7fd375349b7 edges    About a minute ago 3 seconds 0       1 + 0 / 1 57.27KiB 22.22KiB \u001b[32msuccess\u001b[0m \r\n"
     ]
    }
   ],
   "source": [
    "!pachctl list job"
   ]
  },
  {
   "cell_type": "code",
   "execution_count": 74,
   "id": "f4925865",
   "metadata": {},
   "outputs": [],
   "source": [
    "!pachctl get file montage@master:montage.png > montage.png"
   ]
  },
  {
   "cell_type": "markdown",
   "id": "2f3e0b2e",
   "metadata": {},
   "source": [
    "![](montage.png)"
   ]
  },
  {
   "cell_type": "code",
   "execution_count": 56,
   "id": "17d1a977",
   "metadata": {},
   "outputs": [],
   "source": [
    "!pachctl delete repo --all && pachctl delete pipeline --all"
   ]
  },
  {
   "cell_type": "code",
   "execution_count": null,
   "id": "56a6f3ba",
   "metadata": {},
   "outputs": [],
   "source": []
  }
 ],
 "metadata": {
  "kernelspec": {
   "display_name": "Python 3",
   "language": "python",
   "name": "python3"
  },
  "language_info": {
   "codemirror_mode": {
    "name": "ipython",
    "version": 3
   },
   "file_extension": ".py",
   "mimetype": "text/x-python",
   "name": "python",
   "nbconvert_exporter": "python",
   "pygments_lexer": "ipython3",
   "version": "3.9.2"
  }
 },
 "nbformat": 4,
 "nbformat_minor": 5
}
