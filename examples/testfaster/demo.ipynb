{
 "cells": [
  {
   "cell_type": "code",
   "execution_count": 8,
   "id": "483acc14",
   "metadata": {
    "scrolled": true
   },
   "outputs": [
    {
     "name": "stdout",
     "output_type": "stream",
     "text": [
      "pachctl_1.13.2_linux_amd64/pachctl\r\n"
     ]
    }
   ],
   "source": [
    "!wget -q -O /tmp/pachctl.tar.gz https://github.com/pachyderm/pachyderm/releases/download/v1.13.2/pachctl_1.13.2_linux_amd64.tar.gz \n",
    "!tar -xvf /tmp/pachctl.tar.gz -C /tmp \n",
    "!cp /tmp/pachctl_1.13.2_linux_amd64/pachctl /opt/conda/bin # Move the binary to somewhere on the PATH"
   ]
  },
  {
   "cell_type": "code",
   "execution_count": 21,
   "id": "5eaf1f8b",
   "metadata": {},
   "outputs": [],
   "source": [
    "!pachctl config update context `./pachctl config get active-context` --pachd-address=pachd:650"
   ]
  },
  {
   "cell_type": "code",
   "execution_count": 22,
   "id": "94d80571",
   "metadata": {},
   "outputs": [
    {
     "name": "stdout",
     "output_type": "stream",
     "text": [
      "NAME CREATED        SIZE (MASTER) DESCRIPTION \r\n",
      "test 10 minutes ago 0B                        \r\n"
     ]
    }
   ],
   "source": [
    "!pachctl list repo"
   ]
  },
  {
   "cell_type": "code",
   "execution_count": 23,
   "id": "da182a02",
   "metadata": {},
   "outputs": [
    {
     "name": "stdout",
     "output_type": "stream",
     "text": [
      "repo test already exists\r\n"
     ]
    }
   ],
   "source": [
    "!pachctl create repo test"
   ]
  },
  {
   "cell_type": "code",
   "execution_count": 24,
   "id": "4cdaa9ce",
   "metadata": {},
   "outputs": [
    {
     "name": "stdout",
     "output_type": "stream",
     "text": [
      "NAME CREATED        SIZE (MASTER) DESCRIPTION \r\n",
      "test 10 minutes ago 0B                        \r\n"
     ]
    }
   ],
   "source": [
    "!pachctl list repo"
   ]
  },
  {
   "cell_type": "code",
   "execution_count": null,
   "id": "d104698b",
   "metadata": {},
   "outputs": [],
   "source": []
  }
 ],
 "metadata": {
  "kernelspec": {
   "display_name": "Python 3",
   "language": "python",
   "name": "python3"
  },
  "language_info": {
   "codemirror_mode": {
    "name": "ipython",
    "version": 3
   },
   "file_extension": ".py",
   "mimetype": "text/x-python",
   "name": "python",
   "nbconvert_exporter": "python",
   "pygments_lexer": "ipython3",
   "version": "3.9.2"
  }
 },
 "nbformat": 4,
 "nbformat_minor": 5
}
